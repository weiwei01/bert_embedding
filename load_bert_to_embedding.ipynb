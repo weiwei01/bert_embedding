{
 "cells": [
  {
   "cell_type": "code",
   "execution_count": 6,
   "metadata": {},
   "outputs": [
    {
     "name": "stdout",
     "output_type": "stream",
     "text": [
      "\u001b[33mWARNING: Running pip as the 'root' user can result in broken permissions and conflicting behaviour with the system package manager. It is recommended to use a virtual environment instead: https://pip.pypa.io/warnings/venv\u001b[0m\n",
      "\u001b[33mWARNING: Running pip as the 'root' user can result in broken permissions and conflicting behaviour with the system package manager. It is recommended to use a virtual environment instead: https://pip.pypa.io/warnings/venv\u001b[0m\n",
      "\u001b[33mWARNING: Running pip as the 'root' user can result in broken permissions and conflicting behaviour with the system package manager. It is recommended to use a virtual environment instead: https://pip.pypa.io/warnings/venv\u001b[0m\n",
      "2021-06-29 04:44:16.249316: W tensorflow/stream_executor/platform/default/dso_loader.cc:55] Could not load dynamic library 'libnvinfer.so.6'; dlerror: libnvinfer.so.6: cannot open shared object file: No such file or directory; LD_LIBRARY_PATH: /usr/local/nvidia/lib:/usr/local/nvidia/lib64\n",
      "2021-06-29 04:44:16.249394: W tensorflow/stream_executor/platform/default/dso_loader.cc:55] Could not load dynamic library 'libnvinfer_plugin.so.6'; dlerror: libnvinfer_plugin.so.6: cannot open shared object file: No such file or directory; LD_LIBRARY_PATH: /usr/local/nvidia/lib:/usr/local/nvidia/lib64\n",
      "2021-06-29 04:44:16.249407: W tensorflow/compiler/tf2tensorrt/utils/py_utils.cc:30] Cannot dlopen some TensorRT libraries. If you would like to use Nvidia GPU with TensorRT, please make sure the missing libraries mentioned above are installed properly.\n",
      "\u001b[33mWARNING: Running pip as the 'root' user can result in broken permissions and conflicting behaviour with the system package manager. It is recommended to use a virtual environment instead: https://pip.pypa.io/warnings/venv\u001b[0m\n",
      "\u001b[38;5;2m✔ Download and installation successful\u001b[0m\n",
      "You can now load the package via spacy.load('en_core_web_trf')\n",
      "2021-06-29 04:44:48.675869: W tensorflow/stream_executor/platform/default/dso_loader.cc:55] Could not load dynamic library 'libnvinfer.so.6'; dlerror: libnvinfer.so.6: cannot open shared object file: No such file or directory; LD_LIBRARY_PATH: /usr/local/nvidia/lib:/usr/local/nvidia/lib64\n",
      "2021-06-29 04:44:48.675947: W tensorflow/stream_executor/platform/default/dso_loader.cc:55] Could not load dynamic library 'libnvinfer_plugin.so.6'; dlerror: libnvinfer_plugin.so.6: cannot open shared object file: No such file or directory; LD_LIBRARY_PATH: /usr/local/nvidia/lib:/usr/local/nvidia/lib64\n",
      "2021-06-29 04:44:48.675959: W tensorflow/compiler/tf2tensorrt/utils/py_utils.cc:30] Cannot dlopen some TensorRT libraries. If you would like to use Nvidia GPU with TensorRT, please make sure the missing libraries mentioned above are installed properly.\n",
      "\n",
      "\u001b[38;5;1m✘ No compatible package found for 'en_trf_bertbaseuncased_lg' (spaCy\n",
      "v3.0.6)\u001b[0m\n",
      "\n"
     ]
    }
   ],
   "source": [
    "## Install libraries\n",
    "! python -m pip install --upgrade pip --quiet\n",
    "! pip install spacy --quiet\n",
    "! pip3 install spacy-transformers --quiet\n",
    "! python -m spacy download en_core_web_trf --quiet\n",
    "# ! python -m spacy download en_trf_bertbaseuncased_lg --quiet"
   ]
  },
  {
   "cell_type": "code",
   "execution_count": 25,
   "metadata": {},
   "outputs": [
    {
     "data": {
      "text/plain": [
       "7"
      ]
     },
     "execution_count": 25,
     "metadata": {},
     "output_type": "execute_result"
    }
   ],
   "source": [
    "# Import spacy\n",
    "import spacy\n",
    "\n",
    "nlp_trf = spacy.load(\"en_core_web_trf\")\n",
    "\n",
    "# Feed an example sentence to the model; store output under 'example_doc'\n",
    "example_doc = nlp_trf(\"Helsinki is the capital of Finland.\")\n",
    "\n",
    "# Check the length of the Doc object\n",
    "example_doc.__len__()"
   ]
  },
  {
   "cell_type": "code",
   "execution_count": 26,
   "metadata": {},
   "outputs": [
    {
     "data": {
      "text/plain": [
       "spacy_transformers.data_classes.TransformerData"
      ]
     },
     "execution_count": 26,
     "metadata": {},
     "output_type": "execute_result"
    }
   ],
   "source": [
    "# Check the type of the 'trf_data' object using the type() function\n",
    "type(example_doc._.trf_data)"
   ]
  },
  {
   "cell_type": "code",
   "execution_count": 27,
   "metadata": {},
   "outputs": [
    {
     "data": {
      "text/plain": [
       "(1, 11, 768)"
      ]
     },
     "execution_count": 27,
     "metadata": {},
     "output_type": "execute_result"
    }
   ],
   "source": [
    "# Check the shape of the first item in the list\n",
    "example_doc._.trf_data.tensors[0].shape"
   ]
  },
  {
   "cell_type": "code",
   "execution_count": 28,
   "metadata": {},
   "outputs": [
    {
     "data": {
      "text/plain": [
       "(1, 768)"
      ]
     },
     "execution_count": 28,
     "metadata": {},
     "output_type": "execute_result"
    }
   ],
   "source": [
    "# Check the shape of the first item in the list\n",
    "example_doc._.trf_data.tensors[1].shape"
   ]
  },
  {
   "cell_type": "code",
   "execution_count": 29,
   "metadata": {},
   "outputs": [
    {
     "data": {
      "text/plain": [
       "array([[ 0.08683846, -0.7730738 , -1.1122073 , ...,  0.44053328,\n",
       "         0.36458606, -0.48721927],\n",
       "       [-1.3220197 , -0.58153176,  0.45662835, ..., -0.4110549 ,\n",
       "        -1.5180305 , -0.871696  ],\n",
       "       [-1.110841  , -0.58721155,  0.2594491 , ..., -0.46206427,\n",
       "        -1.4726617 , -0.8277549 ],\n",
       "       ...,\n",
       "       [-0.30590406, -0.46042696, -0.08148608, ...,  2.4376936 ,\n",
       "         0.68996066, -1.0034345 ],\n",
       "       [-0.02552489, -0.950257  , -0.62682885, ...,  0.5177102 ,\n",
       "         0.18616802,  0.41015333],\n",
       "       [ 0.17655824, -0.5720697 , -1.3821042 , ...,  0.25179133,\n",
       "         0.3483243 , -0.09476944]], dtype=float32)"
      ]
     },
     "execution_count": 29,
     "metadata": {},
     "output_type": "execute_result"
    }
   ],
   "source": [
    "# Check the first ten dimensions of the tensor\n",
    "example_doc._.trf_data.tensors[0][0][:10]"
   ]
  },
  {
   "cell_type": "code",
   "execution_count": 30,
   "metadata": {},
   "outputs": [
    {
     "data": {
      "text/plain": [
       "[['<s>',\n",
       "  'H',\n",
       "  'els',\n",
       "  'inki',\n",
       "  'Ġis',\n",
       "  'Ġthe',\n",
       "  'Ġcapital',\n",
       "  'Ġof',\n",
       "  'ĠFinland',\n",
       "  '.',\n",
       "  '</s>']]"
      ]
     },
     "execution_count": 30,
     "metadata": {},
     "output_type": "execute_result"
    }
   ],
   "source": [
    "# Access the Transformer tokens under the key 'input_texts'\n",
    "example_doc._.trf_data.tokens['input_texts']"
   ]
  },
  {
   "cell_type": "code",
   "execution_count": 31,
   "metadata": {},
   "outputs": [
    {
     "data": {
      "text/plain": [
       "(Helsinki, array([[1],\n",
       "        [2],\n",
       "        [3]], dtype=int32))"
      ]
     },
     "execution_count": 31,
     "metadata": {},
     "output_type": "execute_result"
    }
   ],
   "source": [
    "example_doc[0], example_doc._.trf_data.align[0].data"
   ]
  },
  {
   "cell_type": "code",
   "execution_count": 32,
   "metadata": {},
   "outputs": [],
   "source": [
    "# Import the Language object under the 'language' module in spaCy,\n",
    "# and NumPy for calculating cosine similarity.\n",
    "from spacy.language import Language\n",
    "import numpy as np\n",
    "\n",
    "# We use the @ character to register the following Class definition\n",
    "# with spaCy under the name 'tensor2attr'.\n",
    "@Language.factory('tensor2attr')\n",
    "\n",
    "# We begin by declaring the class name: Tensor2Attr. The name is \n",
    "# declared using 'class', followed by the name and a colon.\n",
    "class Tensor2Attr:\n",
    "    \n",
    "    # We continue by defining the first method of the class, \n",
    "    # __init__(), which is called when this class is used for \n",
    "    # creating a Python object. Custom components in spaCy \n",
    "    # require passing two variables to the __init__() method:\n",
    "    # 'name' and 'nlp'. The variable 'self' refers to any\n",
    "    # object created using this class!\n",
    "    def __init__(self, name, nlp):\n",
    "        \n",
    "        # We do not really do anything with this class, so we\n",
    "        # simply move on using 'pass' when the object is created.\n",
    "        pass\n",
    "\n",
    "    # The __call__() method is called whenever some other object\n",
    "    # is passed to an object representing this class. Since we know\n",
    "    # that the class is a part of the spaCy pipeline, we already know\n",
    "    # that it will receive Doc objects from the preceding layers.\n",
    "    # We use the variable 'doc' to refer to any object received.\n",
    "    def __call__(self, doc):\n",
    "        \n",
    "        # When an object is received, the class will instantly pass\n",
    "        # the object forward to the 'add_attributes' method. The\n",
    "        # reference to self informs Python that the method belongs\n",
    "        # to this class.\n",
    "        self.add_attributes(doc)\n",
    "        \n",
    "        # After the 'add_attributes' method finishes, the __call__\n",
    "        # method returns the object.\n",
    "        return doc\n",
    "    \n",
    "    # Next, we define the 'add_attributes' method that will modify\n",
    "    # the incoming Doc object by calling a series of methods.\n",
    "    def add_attributes(self, doc):\n",
    "        \n",
    "        # spaCy Doc objects have an attribute named 'user_hooks',\n",
    "        # which allows customising the default attributes of a \n",
    "        # Doc object, such as 'vector'. We use the 'user_hooks'\n",
    "        # attribute to replace the attribute 'vector' with the \n",
    "        # Transformer output, which is retrieved using the \n",
    "        # 'doc_tensor' method defined below.\n",
    "        doc.user_hooks['vector'] = self.doc_tensor\n",
    "        \n",
    "        # We then perform the same for both Spans and Tokens that\n",
    "        # are contained within the Doc object.\n",
    "        doc.user_span_hooks['vector'] = self.span_tensor\n",
    "        doc.user_token_hooks['vector'] = self.token_tensor\n",
    "        \n",
    "        # We also replace the 'similarity' method, because the \n",
    "        # default 'similarity' method looks at the default 'vector'\n",
    "        # attribute, which is empty! We must first replace the\n",
    "        # vectors using the 'user_hooks' attribute.\n",
    "        doc.user_hooks['similarity'] = self.get_similarity\n",
    "        doc.user_span_hooks['similarity'] = self.get_similarity\n",
    "        doc.user_token_hooks['similarity'] = self.get_similarity\n",
    "    \n",
    "    # Define a method that takes a Doc object as input and returns \n",
    "    # Transformer output for the entire Doc.\n",
    "    def doc_tensor(self, doc):\n",
    "        \n",
    "        # Return Transformer output for the entire Doc. As noted\n",
    "        # above, this is the last item under the attribute 'tensor'.\n",
    "        # Average the output along axis 0 to handle batched outputs.\n",
    "        return doc._.trf_data.tensors[-1].mean(axis=0)\n",
    "    \n",
    "    # Define a method that takes a Span as input and returns the Transformer \n",
    "    # output.\n",
    "    def span_tensor(self, span):\n",
    "        \n",
    "        # Get alignment information for Span. This is achieved by using\n",
    "        # the 'doc' attribute of Span that refers to the Doc that contains\n",
    "        # this Span. We then use the 'start' and 'end' attributes of a Span\n",
    "        # to retrieve the alignment information. Finally, we flatten the\n",
    "        # resulting array to use it for indexing.\n",
    "        tensor_ix = span.doc._.trf_data.align[span.start: span.end].data.flatten()\n",
    "        \n",
    "        # Fetch Transformer output shape from the final dimension of the output.\n",
    "        # We do this here to maintain compatibility with different Transformers,\n",
    "        # which may output tensors of different shape.\n",
    "        out_dim = span.doc._.trf_data.tensors[0].shape[-1]\n",
    "        \n",
    "        # Get Token tensors under tensors[0]. Reshape batched outputs so that\n",
    "        # each \"row\" in the matrix corresponds to a single token. This is needed\n",
    "        # for matching alignment information under 'tensor_ix' to the Transformer\n",
    "        # output.\n",
    "        tensor = span.doc._.trf_data.tensors[0].reshape(-1, out_dim)[tensor_ix]\n",
    "        \n",
    "        # Average vectors along axis 0 (\"columns\"). This yields a 768-dimensional\n",
    "        # vector for each spaCy Span.\n",
    "        return tensor.mean(axis=0)\n",
    "    \n",
    "    # Define a function that takes a Token as input and returns the Transformer\n",
    "    # output.\n",
    "    def token_tensor(self, token):\n",
    "        \n",
    "        # Get alignment information for Token; flatten array for indexing.\n",
    "        # Again, we use the 'doc' attribute of a Token to get the parent Doc,\n",
    "        # which contains the Transformer output.\n",
    "        tensor_ix = token.doc._.trf_data.align[token.i].data.flatten()\n",
    "        \n",
    "        # Fetch Transformer output shape from the final dimension of the output.\n",
    "        # We do this here to maintain compatibility with different Transformers,\n",
    "        # which may output tensors of different shape.\n",
    "        out_dim = token.doc._.trf_data.tensors[0].shape[-1]\n",
    "        \n",
    "        # Get Token tensors under tensors[0]. Reshape batched outputs so that\n",
    "        # each \"row\" in the matrix corresponds to a single token. This is needed\n",
    "        # for matching alignment information under 'tensor_ix' to the Transformer\n",
    "        # output.\n",
    "        tensor = token.doc._.trf_data.tensors[0].reshape(-1, out_dim)[tensor_ix]\n",
    "\n",
    "        # Average vectors along axis 0 (columns). This yields a 768-dimensional\n",
    "        # vector for each spaCy Token.\n",
    "        return tensor.mean(axis=0)\n",
    "    \n",
    "    # Define a function for calculating cosine similarity between vectors\n",
    "    def get_similarity(self, doc1, doc2):\n",
    "        \n",
    "        # Calculate and return cosine similarity\n",
    "        return np.dot(doc1.vector, doc2.vector) / (doc1.vector_norm * doc2.vector_norm)"
   ]
  },
  {
   "cell_type": "code",
   "execution_count": 33,
   "metadata": {},
   "outputs": [
    {
     "data": {
      "text/plain": [
       "[('transformer',\n",
       "  <spacy_transformers.pipeline_component.Transformer at 0x7f59805d6048>),\n",
       " ('tagger', <spacy.pipeline.tagger.Tagger at 0x7f598a4e5780>),\n",
       " ('parser', <spacy.pipeline.dep_parser.DependencyParser at 0x7f5980436590>),\n",
       " ('ner', <spacy.pipeline.ner.EntityRecognizer at 0x7f59804366c8>),\n",
       " ('attribute_ruler',\n",
       "  <spacy.pipeline.attributeruler.AttributeRuler at 0x7f59802b4b08>),\n",
       " ('lemmatizer',\n",
       "  <spacy.lang.en.lemmatizer.EnglishLemmatizer at 0x7f59802b4fc8>),\n",
       " ('tensor2attr', <__main__.Tensor2Attr at 0x7f5994478128>)]"
      ]
     },
     "execution_count": 33,
     "metadata": {},
     "output_type": "execute_result"
    }
   ],
   "source": [
    "# Add the component named 'tensor2attr', which we registered using the\n",
    "# @Language decorator and its 'factory' method to the pipeline.\n",
    "nlp_trf.add_pipe('tensor2attr')\n",
    "\n",
    "# Call the 'pipeline' attribute to examine the pipeline\n",
    "nlp_trf.pipeline"
   ]
  },
  {
   "cell_type": "code",
   "execution_count": 112,
   "metadata": {},
   "outputs": [],
   "source": [
    "# Define two example sentences and process them using the Transformer-based\n",
    "# language model under 'nlp_trf'.\n",
    "doc_city_trf = nlp_trf(\"the capital town of usa is washinton\")\n",
    "doc_money_trf = nlp_trf(\"our capital city is taipei.\")"
   ]
  },
  {
   "cell_type": "code",
   "execution_count": 106,
   "metadata": {},
   "outputs": [
    {
     "data": {
      "text/plain": [
       "0.12347994"
      ]
     },
     "execution_count": 106,
     "metadata": {},
     "output_type": "execute_result"
    }
   ],
   "source": [
    "# Retrieve vectors for the two Tokens corresponding to \"capital\";\n",
    "# assign to variables 'city_trf' and 'money_trf'.\n",
    "city_trf = doc_city_trf[5]\n",
    "money_trf = doc_money_trf[0]\n",
    "\n",
    "# Compare the similarity of the two meanings of 'capital'\n",
    "city_trf.similarity(money_trf)"
   ]
  },
  {
   "cell_type": "code",
   "execution_count": 120,
   "metadata": {},
   "outputs": [
    {
     "data": {
      "text/plain": [
       "0.9453276614922332"
      ]
     },
     "execution_count": 120,
     "metadata": {},
     "output_type": "execute_result"
    }
   ],
   "source": [
    "doc_city_trf.similarity(doc_money_trf)\n"
   ]
  },
  {
   "cell_type": "code",
   "execution_count": 129,
   "metadata": {},
   "outputs": [
    {
     "data": {
      "text/plain": [
       "TransformerData(wordpieces=WordpieceBatch(strings=[['<s>', 'the', 'Ġcapital', 'Ġtown', 'Ġof', 'Ġus', 'a', 'Ġis', 'Ġwash', 'inton', '</s>']], input_ids=array([[    0,   627,   812,  1139,     9,   201,   102,    16, 10397,\n",
       "        10528,     2]]), attention_mask=array([[1, 1, 1, 1, 1, 1, 1, 1, 1, 1, 1]]), lengths=[11], token_type_ids=None), tensors=[array([[[ 0.24946997, -0.37220186, -0.7267498 , ...,  0.06434161,\n",
       "          0.16448084, -0.4385782 ],\n",
       "        [-0.1141268 , -1.1301125 ,  0.05209627, ..., -1.0581224 ,\n",
       "         -0.38165125, -1.1613958 ],\n",
       "        [-0.7097907 , -0.89201367,  0.56712574, ...,  0.6758817 ,\n",
       "          0.4737274 ,  0.14610694],\n",
       "        ...,\n",
       "        [ 0.18009594, -0.14503776, -0.05266785, ..., -1.2241157 ,\n",
       "         -0.21417822,  0.74991214],\n",
       "        [ 0.2771276 , -0.15657264, -0.2266963 , ..., -1.540317  ,\n",
       "         -0.16685581,  0.63955176],\n",
       "        [ 0.3855707 , -0.4916963 , -1.1064452 , ...,  0.13321239,\n",
       "          0.26810056, -0.46347734]]], dtype=float32), array([[ 2.93472558e-01, -2.75406271e-01, -2.79017895e-01,\n",
       "         3.41113359e-02, -6.68086782e-02,  2.47422934e-01,\n",
       "         3.42337310e-01,  4.35858816e-02, -3.93942505e-01,\n",
       "        -2.56490856e-01,  8.95456746e-02, -2.97690123e-01,\n",
       "         9.40171182e-02,  3.81348580e-01, -3.37546527e-01,\n",
       "         3.49420875e-01,  1.69087410e-01, -6.02865636e-01,\n",
       "         1.31292939e-01,  6.15066439e-02, -4.26840112e-02,\n",
       "        -3.42724361e-02,  2.35919386e-01,  9.57488865e-02,\n",
       "         3.39588560e-02,  2.31638756e-02, -1.26368538e-01,\n",
       "        -2.50095457e-01,  5.27545214e-01,  4.77424562e-01,\n",
       "         2.21651733e-01, -2.09636256e-01,  1.26110464e-01,\n",
       "         5.00233591e-01, -3.84075135e-01,  3.77389044e-01,\n",
       "        -2.10875630e-01,  2.47755557e-01,  4.01791126e-01,\n",
       "        -3.13454062e-01, -2.11190313e-01, -3.24575394e-01,\n",
       "        -1.10680170e-01, -1.93469912e-01,  2.67279476e-01,\n",
       "         2.94622928e-01, -2.21334934e-01,  1.92166910e-01,\n",
       "        -8.16487521e-02,  2.61824485e-02, -2.47557670e-01,\n",
       "         2.09689304e-01,  3.74415964e-01,  1.82482809e-01,\n",
       "        -4.00600210e-02,  1.24507613e-01,  3.85356128e-01,\n",
       "         1.68355070e-02, -1.56850740e-01,  2.52989382e-01,\n",
       "        -4.09417450e-01, -3.42202306e-01,  2.43012890e-01,\n",
       "        -9.28603187e-02, -2.89138436e-01, -2.86020845e-01,\n",
       "        -1.09437332e-01, -1.21858105e-01, -2.10835129e-01,\n",
       "         1.94403797e-01, -1.87692687e-01,  2.26525124e-02,\n",
       "         1.26070693e-01, -2.56965578e-01, -1.75464362e-01,\n",
       "         2.00552538e-01, -5.24246275e-01, -6.97107464e-02,\n",
       "        -6.92032427e-02,  4.77139384e-01, -3.57539058e-01,\n",
       "        -1.41578078e-01,  4.62981164e-01,  5.36591172e-01,\n",
       "        -3.88797432e-01, -3.93070370e-01, -3.12395155e-01,\n",
       "        -2.83209294e-01,  8.21680352e-02, -1.07801907e-01,\n",
       "        -2.88640380e-01, -6.21180773e-01, -5.80813475e-02,\n",
       "         9.26706865e-02, -2.54837662e-01,  2.60891378e-01,\n",
       "        -4.03785594e-02, -2.75729090e-01, -3.86016697e-01,\n",
       "        -4.48546737e-01, -2.82639582e-02,  5.89205660e-02,\n",
       "        -1.09750502e-01, -1.27067342e-01,  6.27441630e-02,\n",
       "        -2.30938762e-01,  4.84468430e-01, -1.44169470e-02,\n",
       "        -1.49545178e-01,  6.28716722e-02, -2.76681706e-02,\n",
       "         5.69707513e-01,  3.10444593e-01, -2.68143058e-01,\n",
       "         1.63169935e-01,  9.15757418e-02,  9.24508199e-02,\n",
       "        -4.51011926e-01,  5.99717319e-01, -6.11760318e-01,\n",
       "         7.89592713e-02, -2.21251491e-02,  5.98982990e-01,\n",
       "         2.33642519e-01, -1.42595023e-01,  3.68072808e-01,\n",
       "         4.18052942e-01,  2.71458983e-01, -3.86725068e-02,\n",
       "        -5.93384691e-02, -3.47215086e-02, -1.33437127e-01,\n",
       "        -8.27137381e-02,  1.02759413e-02,  4.19969171e-01,\n",
       "         3.51782590e-01, -3.94479394e-01, -3.70115727e-01,\n",
       "        -3.66903514e-01,  1.91320509e-01,  4.05905634e-01,\n",
       "         3.27424817e-02, -2.01656803e-01,  4.89890099e-01,\n",
       "         2.62688339e-01, -7.76305096e-03,  8.51727873e-02,\n",
       "        -4.96104151e-01, -1.99144900e-01,  5.06297827e-01,\n",
       "         2.58708239e-01,  2.06253484e-01, -6.54764250e-02,\n",
       "        -6.80767223e-02, -5.59722602e-01, -3.39276902e-02,\n",
       "         6.64906129e-02, -2.64902681e-01, -2.23646328e-01,\n",
       "         1.32999644e-01, -3.01214069e-01, -4.91897203e-02,\n",
       "        -7.95845315e-02, -5.13825834e-01, -2.20671281e-01,\n",
       "        -5.00909865e-01,  2.63209373e-01, -2.86936648e-02,\n",
       "        -7.53944591e-02, -2.19943494e-01,  1.28901184e-01,\n",
       "        -7.57967889e-01, -1.87996909e-01,  2.01439321e-01,\n",
       "        -4.98724431e-01,  6.30008161e-01, -5.05924046e-01,\n",
       "         3.93155217e-01,  8.87820423e-02, -1.37855947e-01,\n",
       "         1.69704974e-01, -3.40275735e-01,  9.91452262e-02,\n",
       "         4.18993644e-02,  2.03338891e-01,  3.51490140e-01,\n",
       "        -3.27920765e-01, -1.15598045e-01, -2.94616669e-01,\n",
       "        -4.12883796e-02,  6.62236065e-02, -2.56341130e-01,\n",
       "        -5.67752235e-02, -1.69761568e-01, -7.20196292e-02,\n",
       "         2.21288696e-01, -4.52849507e-01,  2.36277744e-01,\n",
       "         1.30319685e-01, -6.36941254e-01,  2.95339704e-01,\n",
       "        -2.16206372e-01,  2.92119253e-02, -3.58921498e-01,\n",
       "         2.40909144e-01,  1.24282129e-01, -9.01843384e-02,\n",
       "        -2.07225662e-02,  2.19491914e-01, -7.96762407e-02,\n",
       "         3.45524758e-01, -6.86117291e-01,  3.62347186e-01,\n",
       "        -2.98857152e-01, -3.09969693e-01, -6.96541220e-02,\n",
       "        -1.75200790e-01, -3.78542319e-02, -3.99679780e-01,\n",
       "        -2.41198629e-01,  7.78063163e-02,  3.48200202e-01,\n",
       "         4.74601656e-01, -6.61541760e-01,  2.46663988e-01,\n",
       "        -3.57825905e-01, -3.36798817e-01, -1.60375535e-02,\n",
       "        -2.67873436e-01,  3.29034328e-01,  5.90441644e-01,\n",
       "        -5.74459434e-01,  4.01153564e-01, -2.64199942e-01,\n",
       "        -6.80187643e-01,  2.67526090e-01, -4.38895106e-01,\n",
       "         5.84559023e-01,  9.88041461e-02, -6.53164461e-02,\n",
       "        -1.19568370e-02,  1.81416005e-01,  1.89260647e-01,\n",
       "         1.52969033e-01,  4.76123728e-02, -1.24873310e-01,\n",
       "         3.89757216e-01, -3.35995764e-01,  1.49229765e-01,\n",
       "        -3.18886340e-01,  6.65356889e-02, -9.28741023e-02,\n",
       "         7.01653659e-02, -2.21661136e-01,  4.28813070e-01,\n",
       "         4.83266741e-01, -1.08257584e-01, -4.63929921e-01,\n",
       "         4.64816749e-01,  3.21242243e-01,  1.93466648e-01,\n",
       "         1.36324108e-01,  6.74079582e-02,  1.30373999e-01,\n",
       "        -3.87916923e-01,  2.16822624e-01, -3.29662919e-01,\n",
       "         5.36393523e-01, -1.83529854e-01,  2.47054964e-01,\n",
       "         2.10416496e-01, -2.18762934e-01, -4.35612738e-01,\n",
       "        -1.18599087e-01,  1.83110479e-02,  2.89608866e-01,\n",
       "        -1.50814950e-01,  1.76239148e-01,  2.57593766e-02,\n",
       "         1.29294679e-01, -2.55233884e-01, -2.93713510e-01,\n",
       "         2.21124902e-01, -2.66120642e-01,  3.42541456e-01,\n",
       "        -5.32496333e-01, -7.47722685e-02,  1.29447088e-01,\n",
       "         1.09555863e-01, -3.71408999e-01,  5.23346998e-02,\n",
       "         1.71137035e-01,  4.13771510e-01, -2.26621121e-01,\n",
       "         3.65278244e-01,  5.11684477e-01,  3.29699963e-01,\n",
       "         2.54190356e-01,  2.16931671e-01, -3.43113989e-01,\n",
       "        -2.57448435e-01,  5.94435811e-01,  1.20362394e-01,\n",
       "         1.34536594e-01,  3.39681841e-03, -2.17795581e-01,\n",
       "        -4.08174902e-01,  3.02408397e-01,  2.81343967e-01,\n",
       "        -3.93688679e-05,  4.43296283e-02,  2.12322116e-01,\n",
       "         2.61426926e-01, -7.30328679e-01, -2.54949152e-01,\n",
       "        -5.76835394e-01, -7.76888058e-03, -2.83928633e-01,\n",
       "        -3.94637585e-01, -2.32196301e-01, -1.07103340e-01,\n",
       "         6.08095527e-01, -5.84131598e-01,  1.65224090e-01,\n",
       "         5.87032475e-02,  3.69691513e-02, -5.10985494e-01,\n",
       "         5.06580055e-01, -3.66428286e-01,  2.65594244e-01,\n",
       "        -4.79287505e-01,  2.75341094e-01, -3.03908616e-01,\n",
       "         2.30307281e-01, -3.13860834e-01, -2.32879341e-01,\n",
       "        -1.06798194e-01, -1.18184455e-01,  2.62043655e-01,\n",
       "         1.55808419e-01, -5.73793530e-01,  6.32536411e-01,\n",
       "        -1.03321142e-01,  2.62283199e-02, -3.27975452e-01,\n",
       "         4.61782038e-01,  6.43788949e-02, -1.80910543e-01,\n",
       "         2.46168211e-01, -2.89397463e-02, -1.32766310e-02,\n",
       "        -1.71103433e-01, -5.11624396e-01,  6.53702319e-02,\n",
       "        -3.53835344e-01,  1.58739641e-01,  1.93757251e-01,\n",
       "         3.15349102e-02,  6.92596674e-01, -3.85447711e-01,\n",
       "         4.93774340e-02, -2.02651158e-01,  7.58508965e-02,\n",
       "         1.57215893e-01, -1.83640584e-01,  7.53854588e-02,\n",
       "        -1.06546633e-01,  1.89472772e-02,  8.75830725e-02,\n",
       "        -2.71537095e-01,  7.23214373e-02, -1.54435188e-01,\n",
       "        -5.67161739e-01,  3.80670756e-01, -5.07148921e-01,\n",
       "        -4.18412179e-01,  3.12488586e-01,  2.75206596e-01,\n",
       "        -2.17087567e-01, -1.64295249e-02, -5.18137105e-02,\n",
       "        -1.16044767e-01,  1.54814869e-02,  3.25929552e-01,\n",
       "        -3.80417794e-01,  1.94383249e-01,  3.83187681e-01,\n",
       "        -4.33226079e-01,  1.37946174e-01,  6.10686123e-01,\n",
       "        -1.39780447e-01, -5.57200253e-01, -2.87060618e-01,\n",
       "        -1.41170204e-01,  2.76641846e-01,  3.20796490e-01,\n",
       "        -4.51255441e-01, -8.44731033e-02,  2.21118629e-01,\n",
       "         3.63078803e-01,  5.87137401e-01, -3.99108827e-01,\n",
       "        -3.40813518e-01, -6.63894787e-02,  3.30538869e-01,\n",
       "        -1.77095830e-01, -1.45789385e-01, -6.66677430e-02,\n",
       "         1.37419969e-01,  2.65091836e-01, -8.82963687e-02,\n",
       "        -3.09521526e-01, -2.59694695e-01,  8.19480270e-02,\n",
       "        -2.81811029e-01, -7.81434298e-01,  2.86619484e-01,\n",
       "         3.16912532e-01, -4.40752119e-01, -7.18640815e-03,\n",
       "        -1.73290614e-02,  1.90396935e-01, -3.98777351e-02,\n",
       "         5.61122000e-01, -3.29702973e-01, -1.72017559e-01,\n",
       "         3.64714265e-01, -2.04007447e-01,  2.04040557e-01,\n",
       "         1.41534194e-01, -3.94701779e-01,  4.78423089e-02,\n",
       "        -3.24308515e-01,  1.03724554e-01, -3.26758653e-01,\n",
       "         5.69689631e-01, -2.92103499e-01,  7.69862207e-03,\n",
       "         4.74333391e-02, -3.18134248e-01,  1.25113741e-01,\n",
       "         2.59560376e-01,  2.22656012e-01,  1.01956911e-01,\n",
       "        -3.35218906e-01,  3.54663998e-01, -4.69627112e-01,\n",
       "        -5.58163702e-01, -3.11806530e-01,  6.59044832e-02,\n",
       "         1.60532176e-01,  7.11221248e-02, -4.17891145e-01,\n",
       "        -4.81732339e-01, -1.92176685e-01, -1.12070799e-01,\n",
       "         7.20747888e-01, -1.48776220e-02, -3.47864449e-01,\n",
       "         3.98235112e-01,  3.73058766e-01, -5.22540689e-01,\n",
       "         4.90682602e-01,  4.27877069e-01, -3.46404076e-01,\n",
       "         4.97045130e-01,  3.96214366e-01,  1.77459702e-01,\n",
       "         3.11566919e-01,  5.01226723e-01,  3.38644058e-01,\n",
       "         1.70403302e-01, -4.34615910e-01,  6.42468631e-01,\n",
       "        -5.77124476e-01,  1.12256490e-01, -1.75945997e-01,\n",
       "        -3.08268040e-01, -1.22129403e-01,  4.36076880e-01,\n",
       "         4.87563998e-01, -2.06917271e-01,  5.88904731e-02,\n",
       "        -1.63353443e-01,  2.68837899e-01,  2.38670722e-01,\n",
       "        -5.62812865e-01,  2.27837458e-01, -4.43767644e-02,\n",
       "        -5.40678382e-01,  3.49608749e-01,  2.11088821e-01,\n",
       "         1.06045954e-01, -2.02392325e-01, -1.08256519e-01,\n",
       "         3.34850878e-01, -4.23450321e-01,  7.33478516e-02,\n",
       "        -3.99083160e-02, -1.76476568e-01,  2.83778876e-01,\n",
       "        -4.57321465e-01, -4.60679322e-01,  1.37148455e-01,\n",
       "        -1.32627161e-02,  8.57216343e-02,  2.00177357e-01,\n",
       "         6.40135109e-01,  2.38763168e-01, -4.17871445e-01,\n",
       "         5.56377470e-01,  3.18318844e-01, -2.33849719e-01,\n",
       "         2.80378282e-01,  1.29485056e-01, -2.45544299e-01,\n",
       "         2.82581598e-01, -1.02180637e-01,  9.44141746e-02,\n",
       "         1.16554335e-01, -1.45343602e-01, -6.76166654e-01,\n",
       "         2.99218297e-01, -3.93099397e-01, -3.28063101e-01,\n",
       "        -3.40085179e-01,  9.06701386e-02, -5.90013564e-01,\n",
       "         1.07405350e-01, -2.11618900e-01,  2.85810441e-01,\n",
       "        -9.87306163e-02, -1.23079412e-01, -2.26085320e-01,\n",
       "         1.80766672e-01, -2.82586843e-01, -5.43801129e-01,\n",
       "        -4.72288758e-01,  5.18684745e-01, -2.32033148e-01,\n",
       "        -4.89357650e-01,  2.07146212e-01,  2.50323415e-01,\n",
       "         1.01552866e-01,  3.63462985e-01, -8.64071492e-03,\n",
       "        -2.12545142e-01,  2.09319413e-01, -3.02772969e-02,\n",
       "        -2.07661808e-01,  3.34900349e-01,  1.66201383e-01,\n",
       "        -5.72801828e-01, -3.91362935e-01, -3.70988965e-01,\n",
       "         6.87210038e-02,  9.04609561e-02, -2.85030782e-01,\n",
       "         3.95322859e-01, -1.02560475e-01,  2.37977177e-01,\n",
       "         4.44729179e-01, -5.97412944e-01, -9.62344557e-02,\n",
       "         4.52252068e-02,  2.33921215e-01, -7.69504011e-02,\n",
       "        -5.47320366e-01,  1.43919110e-01, -5.19429520e-02,\n",
       "        -4.12539959e-01,  1.08504489e-01,  2.93989390e-01,\n",
       "        -1.30099043e-01,  5.23283541e-01, -2.48207580e-02,\n",
       "        -3.85917932e-01,  1.26582801e-01,  1.77590981e-01,\n",
       "         2.65724003e-01, -2.44153515e-02,  3.69280548e-04,\n",
       "        -2.69245416e-01,  1.26301825e-01, -8.53460208e-02,\n",
       "         1.14175491e-01,  1.45861477e-01,  9.11690388e-03,\n",
       "        -2.57869102e-02, -4.83899228e-02, -3.12928736e-01,\n",
       "        -2.72958606e-01, -4.75285023e-01, -5.67327857e-01,\n",
       "        -2.04988673e-01,  1.15086384e-01, -3.17307264e-01,\n",
       "         1.04267381e-01, -5.40834129e-01,  4.52875853e-01,\n",
       "         3.69747758e-01, -1.86579023e-02, -4.77104217e-01,\n",
       "        -4.36646044e-01, -2.31254101e-01,  3.65591496e-01,\n",
       "         2.87166774e-01, -1.48918349e-02,  1.33175984e-01,\n",
       "         1.58648476e-01, -4.09952588e-02, -9.12077650e-02,\n",
       "        -5.12168586e-01, -4.38601762e-01,  2.03295857e-01,\n",
       "        -1.78943604e-01,  3.26479912e-01, -3.14117998e-01,\n",
       "         7.04286247e-02, -5.22055775e-02, -9.09076929e-02,\n",
       "        -1.96759984e-01,  4.26906757e-02,  3.53499681e-01,\n",
       "         4.40859556e-01, -1.36026934e-01,  1.83654025e-01,\n",
       "         1.71852976e-01, -2.76324809e-01, -2.51291901e-01,\n",
       "        -2.61834115e-01, -3.96817625e-02,  2.74850130e-01,\n",
       "         4.32301909e-01,  3.52639370e-02,  2.45474726e-02,\n",
       "         2.94297189e-01,  1.22842185e-01,  1.38055623e-01,\n",
       "        -2.57644266e-01,  1.53555915e-01, -4.45833474e-01,\n",
       "        -5.15092313e-02, -5.81686080e-01,  2.95112282e-01,\n",
       "        -7.75723010e-02,  6.63817450e-02,  1.56944916e-02,\n",
       "        -4.24946994e-01, -2.56436199e-01,  1.24124222e-01,\n",
       "         3.68571937e-01,  2.48147473e-01, -1.86159581e-01,\n",
       "         2.81067222e-01, -4.61086988e-01, -3.62202823e-01,\n",
       "        -1.99004576e-01,  3.54290456e-01,  4.74440753e-01,\n",
       "        -3.15178514e-01, -6.18821263e-01, -2.22855091e-01,\n",
       "         2.40128025e-01, -2.91121267e-02,  8.39331597e-02,\n",
       "         8.65766555e-02, -8.99856463e-02, -8.69434997e-02,\n",
       "        -1.09452955e-01, -1.25444263e-01, -5.09384155e-01,\n",
       "        -9.99287367e-02, -2.40993530e-01, -6.19084537e-02,\n",
       "        -2.74885297e-01,  2.51144677e-01, -2.20932052e-01,\n",
       "         3.82282078e-01, -4.68357354e-01, -1.16978295e-01,\n",
       "         4.45358545e-01,  2.51054555e-01, -1.00376517e-01,\n",
       "        -5.26567586e-02,  3.05978507e-01, -4.48432207e-01,\n",
       "        -2.31208846e-01, -3.08205783e-01,  1.67732522e-01,\n",
       "        -1.71632379e-01, -1.32612661e-01,  3.04673731e-01,\n",
       "        -1.18440809e-02, -3.03531498e-01, -1.10901743e-02,\n",
       "        -3.69777918e-01,  2.56113082e-01, -1.59744546e-01,\n",
       "        -2.68082619e-01, -9.31991935e-02,  1.96953759e-01,\n",
       "         3.22136164e-01, -3.07019502e-01,  3.66475582e-02,\n",
       "        -8.74346495e-02, -2.47169375e-01,  1.55932784e-01,\n",
       "        -3.10518742e-01,  4.85637367e-01, -2.06905127e-01,\n",
       "        -3.50589365e-01, -2.71928340e-01,  5.31652331e-01,\n",
       "         1.62970379e-01,  5.21194398e-01, -1.04378099e-02,\n",
       "        -1.15989454e-01,  8.94170329e-02,  5.76591611e-01,\n",
       "        -5.61170220e-01,  2.06350982e-01, -3.14924628e-01,\n",
       "        -5.61379939e-02, -1.04820319e-01,  3.55644137e-01,\n",
       "         2.10115135e-01, -1.44347697e-01,  3.44522446e-01,\n",
       "        -1.98036149e-01,  1.13794193e-01, -8.06317553e-02,\n",
       "        -2.29938701e-01,  2.03404859e-01,  2.08611235e-01,\n",
       "        -2.25248829e-01, -2.40772054e-01, -4.68295187e-01,\n",
       "         6.87909365e-01,  3.01823229e-01, -3.64150435e-01,\n",
       "         3.93164724e-01, -4.75118786e-01, -2.77176440e-01,\n",
       "        -4.46194798e-01, -6.43080711e-01,  3.51148933e-01,\n",
       "        -8.43060911e-02,  1.78905085e-01, -1.95632726e-01,\n",
       "         1.25181098e-02,  4.33220774e-01, -6.18078783e-02,\n",
       "         3.10098697e-02,  3.89300764e-01, -1.96111277e-01,\n",
       "         8.09728205e-02, -1.04427785e-01,  1.54573277e-01,\n",
       "         4.28272635e-01,  9.75544080e-02,  9.02151912e-02,\n",
       "         1.85430776e-02, -5.20719171e-01, -7.28420615e-02,\n",
       "        -2.81600147e-01,  7.78501481e-02,  2.19073929e-02]], dtype=float32)], align=Ragged(data=array([[1],\n",
       "       [2],\n",
       "       [3],\n",
       "       [4],\n",
       "       [5],\n",
       "       [6],\n",
       "       [7],\n",
       "       [8],\n",
       "       [9]], dtype=int32), lengths=array([1, 1, 1, 1, 2, 1, 2], dtype=int32), data_shape=(-1,), cumsums=None))"
      ]
     },
     "execution_count": 129,
     "metadata": {},
     "output_type": "execute_result"
    }
   ],
   "source": [
    "doc_city_trf._.trf_data"
   ]
  },
  {
   "cell_type": "code",
   "execution_count": 131,
   "metadata": {},
   "outputs": [
    {
     "data": {
      "text/plain": [
       "768"
      ]
     },
     "execution_count": 131,
     "metadata": {},
     "output_type": "execute_result"
    }
   ],
   "source": [
    "len(doc_city_trf._.trf_data.tensors[-1].mean(axis=0))"
   ]
  },
  {
   "cell_type": "code",
   "execution_count": 36,
   "metadata": {},
   "outputs": [],
   "source": [
    "from nltk.cluster import KMeansClusterer\n",
    "import nltk\n",
    "\n",
    "def clustering_question(data,NUM_CLUSTERS = 15):\n",
    "\n",
    "    sentences = data['text']\n",
    "\n",
    "    X = np.array(data['emb'].tolist())\n",
    "\n",
    "    kclusterer = KMeansClusterer(\n",
    "        NUM_CLUSTERS, distance=nltk.cluster.util.cosine_distance,\n",
    "        repeats=25,avoid_empty_clusters=True)\n",
    "\n",
    "    assigned_clusters = kclusterer.cluster(X, assign_clusters=True)\n",
    "\n",
    "    data['cluster'] = pd.Series(assigned_clusters, index=data.index)\n",
    "    data['centroid'] = data['cluster'].apply(lambda x: kclusterer.means()[x])\n",
    "\n",
    "    return data, assigned_clusters"
   ]
  },
  {
   "cell_type": "code",
   "execution_count": 37,
   "metadata": {},
   "outputs": [
    {
     "ename": "NameError",
     "evalue": "name 'data' is not defined",
     "output_type": "error",
     "traceback": [
      "\u001b[0;31m\u001b[0m",
      "\u001b[0;31mNameError\u001b[0mTraceback (most recent call last)",
      "\u001b[0;32m<ipython-input-37-96bcf99ca012>\u001b[0m in \u001b[0;36m<module>\u001b[0;34m\u001b[0m\n\u001b[1;32m      4\u001b[0m \u001b[0;34m\u001b[0m\u001b[0m\n\u001b[1;32m      5\u001b[0m \u001b[0;31m# Compute centroid distance to the data\u001b[0m\u001b[0;34m\u001b[0m\u001b[0;34m\u001b[0m\u001b[0;34m\u001b[0m\u001b[0m\n\u001b[0;32m----> 6\u001b[0;31m \u001b[0mdata\u001b[0m\u001b[0;34m[\u001b[0m\u001b[0;34m'distance_from_centroid'\u001b[0m\u001b[0;34m]\u001b[0m \u001b[0;34m=\u001b[0m \u001b[0mdata\u001b[0m\u001b[0;34m.\u001b[0m\u001b[0mapply\u001b[0m\u001b[0;34m(\u001b[0m\u001b[0mdistance_from_centroid\u001b[0m\u001b[0;34m,\u001b[0m \u001b[0maxis\u001b[0m\u001b[0;34m=\u001b[0m\u001b[0;36m1\u001b[0m\u001b[0;34m)\u001b[0m\u001b[0;34m\u001b[0m\u001b[0;34m\u001b[0m\u001b[0m\n\u001b[0m",
      "\u001b[0;31mNameError\u001b[0m: name 'data' is not defined"
     ]
    }
   ],
   "source": [
    "def distance_from_centroid(row):\n",
    "    # type of emb and centroid is different, hence using tolist below\n",
    "    return distance_matrix([row['emb']], [row['centroid'].tolist()])[0][0]\n",
    "\n",
    "# Compute centroid distance to the data\n",
    "data['distance_from_centroid'] = data.apply(distance_from_centroid, axis=1)"
   ]
  },
  {
   "cell_type": "code",
   "execution_count": 118,
   "metadata": {},
   "outputs": [],
   "source": [
    "import matplotlib.pyplot as plt\n",
    "from sklearn.datasets import make_blobs\n",
    "from sklearn.cluster import KMeans# 隨機產生 10 組 2 features 的資料 500 筆 (dy 即原始目標值 label 0~9)\n",
    "dx, dy = make_blobs(n_samples=500, n_features=2, centers=10, random_state=42)# 用 KMeans 在資料中找出 5 個分組\n",
    "kmeans = KMeans(n_clusters=5)\n",
    "kmeans.fit(dx)# 預測新的目標值 label\n",
    "new_dy = kmeans.predict(dx)\n"
   ]
  }
 ],
 "metadata": {
  "kernelspec": {
   "display_name": "Python 3",
   "language": "python",
   "name": "python3"
  },
  "language_info": {
   "codemirror_mode": {
    "name": "ipython",
    "version": 3
   },
   "file_extension": ".py",
   "mimetype": "text/x-python",
   "name": "python",
   "nbconvert_exporter": "python",
   "pygments_lexer": "ipython3",
   "version": "3.6.9"
  }
 },
 "nbformat": 4,
 "nbformat_minor": 2
}
